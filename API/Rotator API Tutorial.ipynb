{
 "cells": [
  {
   "cell_type": "code",
   "execution_count": 1,
   "id": "demanding-register",
   "metadata": {},
   "outputs": [],
   "source": [
    "from RotatorAPI import RotatorAPI"
   ]
  },
  {
   "cell_type": "markdown",
   "id": "endangered-avenue",
   "metadata": {},
   "source": [
    "## Create instance:"
   ]
  },
  {
   "cell_type": "code",
   "execution_count": 2,
   "id": "invalid-moral",
   "metadata": {},
   "outputs": [],
   "source": [
    "rot = RotatorAPI(port='COM3', n_devices=1)"
   ]
  },
  {
   "cell_type": "markdown",
   "id": "rocky-border",
   "metadata": {},
   "source": [
    "## Connected devices:"
   ]
  },
  {
   "cell_type": "code",
   "execution_count": 3,
   "id": "announced-economics",
   "metadata": {},
   "outputs": [
    {
     "data": {
      "text/plain": [
       "{0: <RotatorAPI.RotatorDevice at 0x1f9aa806760>}"
      ]
     },
     "execution_count": 3,
     "metadata": {},
     "output_type": "execute_result"
    }
   ],
   "source": [
    "rot.dev"
   ]
  },
  {
   "cell_type": "markdown",
   "id": "manufactured-cooking",
   "metadata": {},
   "source": [
    "## Possible Commands:"
   ]
  },
  {
   "cell_type": "code",
   "execution_count": 4,
   "id": "welcome-example",
   "metadata": {},
   "outputs": [
    {
     "name": "stdout",
     "output_type": "stream",
     "text": [
      "dict_keys(['info', 'get_position', 'get_home_offset', 'get_jogstep_size', 'move_to_home_cw', 'move_to_home_ccw', 'move_absolute', 'move_relative', 'move_forward', 'move_backward', 'set_jogstep_size'])\n"
     ]
    }
   ],
   "source": [
    "print(rot.dev[0].commands.keys())"
   ]
  },
  {
   "cell_type": "markdown",
   "id": "phantom-tactics",
   "metadata": {},
   "source": [
    "## Use commands via write method:"
   ]
  },
  {
   "cell_type": "code",
   "execution_count": 5,
   "id": "remarkable-perspective",
   "metadata": {},
   "outputs": [
    {
     "data": {
      "text/plain": [
       "(b'0ma00004600', 17918, 44.99497767857143)"
      ]
     },
     "execution_count": 5,
     "metadata": {},
     "output_type": "execute_result"
    }
   ],
   "source": [
    "rot.dev[0].write('move_absolute', 45)"
   ]
  },
  {
   "cell_type": "code",
   "execution_count": 6,
   "id": "personalized-mission",
   "metadata": {},
   "outputs": [
    {
     "data": {
      "text/plain": [
       "(b'0gp', 17919, 44.997488839285715)"
      ]
     },
     "execution_count": 6,
     "metadata": {},
     "output_type": "execute_result"
    }
   ],
   "source": [
    "rot.dev[0].write('get_position')"
   ]
  },
  {
   "cell_type": "code",
   "execution_count": 7,
   "id": "difficult-model",
   "metadata": {},
   "outputs": [
    {
     "data": {
      "text/plain": [
       "(b'0ho0', 1, 0.0025111607142857145)"
      ]
     },
     "execution_count": 7,
     "metadata": {},
     "output_type": "execute_result"
    }
   ],
   "source": [
    "rot.dev[0].write('move_to_home_cw')"
   ]
  },
  {
   "cell_type": "code",
   "execution_count": null,
   "id": "placed-monitoring",
   "metadata": {},
   "outputs": [],
   "source": []
  }
 ],
 "metadata": {
  "kernelspec": {
   "display_name": "Python 3",
   "language": "python",
   "name": "python3"
  },
  "language_info": {
   "codemirror_mode": {
    "name": "ipython",
    "version": 3
   },
   "file_extension": ".py",
   "mimetype": "text/x-python",
   "name": "python",
   "nbconvert_exporter": "python",
   "pygments_lexer": "ipython3",
   "version": "3.8.5"
  }
 },
 "nbformat": 4,
 "nbformat_minor": 5
}
